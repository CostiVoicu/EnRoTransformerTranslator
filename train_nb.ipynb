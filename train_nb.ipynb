{
 "cells": [
  {
   "cell_type": "markdown",
   "metadata": {},
   "source": [
    "# Training the model"
   ]
  },
  {
   "cell_type": "markdown",
   "metadata": {},
   "source": [
    "## Run tensorboard"
   ]
  },
  {
   "cell_type": "code",
   "execution_count": 1,
   "metadata": {
    "collapsed": true,
    "execution": {
     "iopub.execute_input": "2025-03-01T09:08:23.133288Z",
     "iopub.status.busy": "2025-03-01T09:08:23.133017Z",
     "iopub.status.idle": "2025-03-01T09:08:27.444775Z",
     "shell.execute_reply": "2025-03-01T09:08:27.443471Z",
     "shell.execute_reply.started": "2025-03-01T09:08:23.133265Z"
    },
    "jupyter": {
     "outputs_hidden": true
    },
    "trusted": true
   },
   "outputs": [
    {
     "name": "stdout",
     "output_type": "stream",
     "text": [
      "Requirement already satisfied: tensorboard in /usr/local/lib/python3.10/dist-packages (2.17.1)\n",
      "Requirement already satisfied: absl-py>=0.4 in /usr/local/lib/python3.10/dist-packages (from tensorboard) (1.4.0)\n",
      "Requirement already satisfied: grpcio>=1.48.2 in /usr/local/lib/python3.10/dist-packages (from tensorboard) (1.68.1)\n",
      "Requirement already satisfied: markdown>=2.6.8 in /usr/local/lib/python3.10/dist-packages (from tensorboard) (3.7)\n",
      "Requirement already satisfied: numpy>=1.12.0 in /usr/local/lib/python3.10/dist-packages (from tensorboard) (1.26.4)\n",
      "Requirement already satisfied: packaging in /usr/local/lib/python3.10/dist-packages (from tensorboard) (24.2)\n",
      "Requirement already satisfied: protobuf!=4.24.0,>=3.19.6 in /usr/local/lib/python3.10/dist-packages (from tensorboard) (3.20.3)\n",
      "Requirement already satisfied: setuptools>=41.0.0 in /usr/local/lib/python3.10/dist-packages (from tensorboard) (75.1.0)\n",
      "Requirement already satisfied: six>1.9 in /usr/local/lib/python3.10/dist-packages (from tensorboard) (1.17.0)\n",
      "Requirement already satisfied: tensorboard-data-server<0.8.0,>=0.7.0 in /usr/local/lib/python3.10/dist-packages (from tensorboard) (0.7.2)\n",
      "Requirement already satisfied: werkzeug>=1.0.1 in /usr/local/lib/python3.10/dist-packages (from tensorboard) (3.1.3)\n",
      "Requirement already satisfied: mkl_fft in /usr/local/lib/python3.10/dist-packages (from numpy>=1.12.0->tensorboard) (1.3.8)\n",
      "Requirement already satisfied: mkl_random in /usr/local/lib/python3.10/dist-packages (from numpy>=1.12.0->tensorboard) (1.2.4)\n",
      "Requirement already satisfied: mkl_umath in /usr/local/lib/python3.10/dist-packages (from numpy>=1.12.0->tensorboard) (0.1.1)\n",
      "Requirement already satisfied: mkl in /usr/local/lib/python3.10/dist-packages (from numpy>=1.12.0->tensorboard) (2025.0.1)\n",
      "Requirement already satisfied: tbb4py in /usr/local/lib/python3.10/dist-packages (from numpy>=1.12.0->tensorboard) (2022.0.0)\n",
      "Requirement already satisfied: mkl-service in /usr/local/lib/python3.10/dist-packages (from numpy>=1.12.0->tensorboard) (2.4.1)\n",
      "Requirement already satisfied: MarkupSafe>=2.1.1 in /usr/local/lib/python3.10/dist-packages (from werkzeug>=1.0.1->tensorboard) (3.0.2)\n",
      "Requirement already satisfied: intel-openmp>=2024 in /usr/local/lib/python3.10/dist-packages (from mkl->numpy>=1.12.0->tensorboard) (2024.2.0)\n",
      "Requirement already satisfied: tbb==2022.* in /usr/local/lib/python3.10/dist-packages (from mkl->numpy>=1.12.0->tensorboard) (2022.0.0)\n",
      "Requirement already satisfied: tcmlib==1.* in /usr/local/lib/python3.10/dist-packages (from tbb==2022.*->mkl->numpy>=1.12.0->tensorboard) (1.2.0)\n",
      "Requirement already satisfied: intel-cmplr-lib-rt in /usr/local/lib/python3.10/dist-packages (from mkl_umath->numpy>=1.12.0->tensorboard) (2024.2.0)\n",
      "Requirement already satisfied: intel-cmplr-lib-ur==2024.2.0 in /usr/local/lib/python3.10/dist-packages (from intel-openmp>=2024->mkl->numpy>=1.12.0->tensorboard) (2024.2.0)\n"
     ]
    }
   ],
   "source": [
    "!pip install tensorboard"
   ]
  },
  {
   "cell_type": "code",
   "execution_count": 20,
   "metadata": {
    "execution": {
     "iopub.execute_input": "2025-03-01T16:16:48.992741Z",
     "iopub.status.busy": "2025-03-01T16:16:48.992445Z",
     "iopub.status.idle": "2025-03-01T16:16:49.332350Z",
     "shell.execute_reply": "2025-03-01T16:16:49.331650Z",
     "shell.execute_reply.started": "2025-03-01T16:16:48.992718Z"
    },
    "trusted": true
   },
   "outputs": [
    {
     "name": "stderr",
     "output_type": "stream",
     "text": [
      "\n",
      "NOTE: Using experimental fast data loading logic. To disable, pass\n",
      "    \"--load_fast=false\" and report issues on GitHub. More details:\n",
      "    https://github.com/tensorflow/tensorboard/issues/4784\n",
      "\n"
     ]
    },
    {
     "name": "stdout",
     "output_type": "stream",
     "text": [
      "Starting TensorBoard...\n"
     ]
    },
    {
     "data": {
      "text/plain": [
       "'http://0.0.0.0:6007/'"
      ]
     },
     "execution_count": 20,
     "metadata": {},
     "output_type": "execute_result"
    }
   ],
   "source": [
    "from tensorboard import program\n",
    "\n",
    "log_dir = \"runs\"\n",
    "tb = program.TensorBoard()\n",
    "tb.configure(argv=[None, '--logdir', log_dir, '--host', '0.0.0.0', '--port', '6007'])\n",
    "print(\"Starting TensorBoard...\")\n",
    "tb.launch()"
   ]
  },
  {
   "cell_type": "code",
   "execution_count": 22,
   "metadata": {
    "execution": {
     "iopub.execute_input": "2025-03-01T16:17:02.345416Z",
     "iopub.status.busy": "2025-03-01T16:17:02.345139Z",
     "iopub.status.idle": "2025-03-01T16:17:05.927027Z",
     "shell.execute_reply": "2025-03-01T16:17:05.925951Z",
     "shell.execute_reply.started": "2025-03-01T16:17:02.345395Z"
    },
    "trusted": true
   },
   "outputs": [
    {
     "name": "stdout",
     "output_type": "stream",
     "text": [
      "Collecting pyngrok\n",
      "  Downloading pyngrok-7.2.3-py3-none-any.whl.metadata (8.7 kB)\n",
      "Requirement already satisfied: PyYAML>=5.1 in /usr/local/lib/python3.10/dist-packages (from pyngrok) (6.0.2)\n",
      "Downloading pyngrok-7.2.3-py3-none-any.whl (23 kB)\n",
      "Installing collected packages: pyngrok\n",
      "Successfully installed pyngrok-7.2.3\n"
     ]
    }
   ],
   "source": [
    "!pip install pyngrok"
   ]
  },
  {
   "cell_type": "code",
   "execution_count": null,
   "metadata": {
    "execution": {
     "iopub.execute_input": "2025-03-01T16:17:17.463009Z",
     "iopub.status.busy": "2025-03-01T16:17:17.462581Z",
     "iopub.status.idle": "2025-03-01T16:17:21.806550Z",
     "shell.execute_reply": "2025-03-01T16:17:21.805613Z",
     "shell.execute_reply.started": "2025-03-01T16:17:17.462973Z"
    },
    "trusted": true
   },
   "outputs": [
    {
     "name": "stdout",
     "output_type": "stream",
     "text": [
      "ngrok URL: NgrokTunnel: \"https://6e3e-35-201-180-49.ngrok-free.app\" -> \"http://localhost:6007\"      \n"
     ]
    }
   ],
   "source": [
    "from pyngrok import ngrok\n",
    "\n",
    "# Start ngrok tunnel\n",
    "ngrok.set_auth_token('') # add your token here\n",
    "public_url = ngrok.connect(6007)\n",
    "print(f\"ngrok URL: {public_url}\")"
   ]
  },
  {
   "cell_type": "markdown",
   "metadata": {},
   "source": [
    "## Training"
   ]
  },
  {
   "cell_type": "code",
   "execution_count": null,
   "metadata": {
    "execution": {
     "iopub.execute_input": "2025-03-01T09:08:53.244310Z",
     "iopub.status.busy": "2025-03-01T09:08:53.244013Z",
     "iopub.status.idle": "2025-03-01T09:08:53.478946Z",
     "shell.execute_reply": "2025-03-01T09:08:53.478040Z",
     "shell.execute_reply.started": "2025-03-01T09:08:53.244288Z"
    },
    "trusted": true
   },
   "outputs": [],
   "source": [
    "!mkdir weights"
   ]
  },
  {
   "cell_type": "code",
   "execution_count": null,
   "metadata": {
    "execution": {
     "iopub.execute_input": "2025-03-01T09:08:56.364220Z",
     "iopub.status.busy": "2025-03-01T09:08:56.363919Z",
     "iopub.status.idle": "2025-03-01T09:08:56.368570Z",
     "shell.execute_reply": "2025-03-01T09:08:56.367632Z",
     "shell.execute_reply.started": "2025-03-01T09:08:56.364195Z"
    },
    "trusted": true
   },
   "outputs": [],
   "source": [
    "import sys\n",
    "import os\n",
    "\n",
    "sys.path.append(os.path.abspath('/kaggle/input/enrotransformertranslator/EnRoTransformerTranslator'))"
   ]
  },
  {
   "cell_type": "code",
   "execution_count": 6,
   "metadata": {
    "collapsed": true,
    "execution": {
     "iopub.execute_input": "2025-03-01T09:09:06.077560Z",
     "iopub.status.busy": "2025-03-01T09:09:06.077267Z",
     "iopub.status.idle": "2025-03-01T09:11:55.921231Z",
     "shell.execute_reply": "2025-03-01T09:11:55.920143Z",
     "shell.execute_reply.started": "2025-03-01T09:09:06.077539Z"
    },
    "jupyter": {
     "outputs_hidden": true
    },
    "trusted": true
   },
   "outputs": [
    {
     "name": "stdout",
     "output_type": "stream",
     "text": [
      "Requirement already satisfied: aiohappyeyeballs==2.4.6 in /usr/local/lib/python3.10/dist-packages (from -r /kaggle/input/enrotransformertranslator/EnRoTransformerTranslator/requirements.txt (line 1)) (2.4.6)\n",
      "Requirement already satisfied: aiohttp==3.11.12 in /usr/local/lib/python3.10/dist-packages (from -r /kaggle/input/enrotransformertranslator/EnRoTransformerTranslator/requirements.txt (line 2)) (3.11.12)\n",
      "Requirement already satisfied: aiosignal==1.3.2 in /usr/local/lib/python3.10/dist-packages (from -r /kaggle/input/enrotransformertranslator/EnRoTransformerTranslator/requirements.txt (line 3)) (1.3.2)\n",
      "Requirement already satisfied: altair==5.5.0 in /usr/local/lib/python3.10/dist-packages (from -r /kaggle/input/enrotransformertranslator/EnRoTransformerTranslator/requirements.txt (line 4)) (5.5.0)\n",
      "Requirement already satisfied: attrs==25.1.0 in /usr/local/lib/python3.10/dist-packages (from -r /kaggle/input/enrotransformertranslator/EnRoTransformerTranslator/requirements.txt (line 5)) (25.1.0)\n",
      "Requirement already satisfied: certifi==2025.1.31 in /usr/local/lib/python3.10/dist-packages (from -r /kaggle/input/enrotransformertranslator/EnRoTransformerTranslator/requirements.txt (line 6)) (2025.1.31)\n",
      "Requirement already satisfied: charset-normalizer==3.4.1 in /usr/local/lib/python3.10/dist-packages (from -r /kaggle/input/enrotransformertranslator/EnRoTransformerTranslator/requirements.txt (line 7)) (3.4.1)\n",
      "Requirement already satisfied: colorama==0.4.6 in /usr/local/lib/python3.10/dist-packages (from -r /kaggle/input/enrotransformertranslator/EnRoTransformerTranslator/requirements.txt (line 8)) (0.4.6)\n",
      "Collecting datasets==3.3.2 (from -r /kaggle/input/enrotransformertranslator/EnRoTransformerTranslator/requirements.txt (line 9))\n",
      "  Downloading datasets-3.3.2-py3-none-any.whl.metadata (19 kB)\n",
      "Requirement already satisfied: dill==0.3.8 in /usr/local/lib/python3.10/dist-packages (from -r /kaggle/input/enrotransformertranslator/EnRoTransformerTranslator/requirements.txt (line 10)) (0.3.8)\n",
      "Requirement already satisfied: filelock==3.17.0 in /usr/local/lib/python3.10/dist-packages (from -r /kaggle/input/enrotransformertranslator/EnRoTransformerTranslator/requirements.txt (line 11)) (3.17.0)\n",
      "Requirement already satisfied: frozenlist==1.5.0 in /usr/local/lib/python3.10/dist-packages (from -r /kaggle/input/enrotransformertranslator/EnRoTransformerTranslator/requirements.txt (line 12)) (1.5.0)\n",
      "Requirement already satisfied: fsspec==2024.12.0 in /usr/local/lib/python3.10/dist-packages (from -r /kaggle/input/enrotransformertranslator/EnRoTransformerTranslator/requirements.txt (line 13)) (2024.12.0)\n",
      "Collecting huggingface-hub==0.29.1 (from -r /kaggle/input/enrotransformertranslator/EnRoTransformerTranslator/requirements.txt (line 14))\n",
      "  Downloading huggingface_hub-0.29.1-py3-none-any.whl.metadata (13 kB)\n",
      "Requirement already satisfied: idna==3.10 in /usr/local/lib/python3.10/dist-packages (from -r /kaggle/input/enrotransformertranslator/EnRoTransformerTranslator/requirements.txt (line 15)) (3.10)\n",
      "Collecting Jinja2==3.1.5 (from -r /kaggle/input/enrotransformertranslator/EnRoTransformerTranslator/requirements.txt (line 16))\n",
      "  Downloading jinja2-3.1.5-py3-none-any.whl.metadata (2.6 kB)\n",
      "Requirement already satisfied: jsonschema==4.23.0 in /usr/local/lib/python3.10/dist-packages (from -r /kaggle/input/enrotransformertranslator/EnRoTransformerTranslator/requirements.txt (line 17)) (4.23.0)\n",
      "Requirement already satisfied: jsonschema-specifications==2024.10.1 in /usr/local/lib/python3.10/dist-packages (from -r /kaggle/input/enrotransformertranslator/EnRoTransformerTranslator/requirements.txt (line 18)) (2024.10.1)\n",
      "Requirement already satisfied: lightning-utilities==0.12.0 in /usr/local/lib/python3.10/dist-packages (from -r /kaggle/input/enrotransformertranslator/EnRoTransformerTranslator/requirements.txt (line 19)) (0.12.0)\n",
      "Requirement already satisfied: MarkupSafe==3.0.2 in /usr/local/lib/python3.10/dist-packages (from -r /kaggle/input/enrotransformertranslator/EnRoTransformerTranslator/requirements.txt (line 20)) (3.0.2)\n",
      "Requirement already satisfied: mpmath==1.3.0 in /usr/local/lib/python3.10/dist-packages (from -r /kaggle/input/enrotransformertranslator/EnRoTransformerTranslator/requirements.txt (line 21)) (1.3.0)\n",
      "Requirement already satisfied: multidict==6.1.0 in /usr/local/lib/python3.10/dist-packages (from -r /kaggle/input/enrotransformertranslator/EnRoTransformerTranslator/requirements.txt (line 22)) (6.1.0)\n",
      "Requirement already satisfied: multiprocess==0.70.16 in /usr/local/lib/python3.10/dist-packages (from -r /kaggle/input/enrotransformertranslator/EnRoTransformerTranslator/requirements.txt (line 23)) (0.70.16)\n",
      "Collecting narwhals==1.27.1 (from -r /kaggle/input/enrotransformertranslator/EnRoTransformerTranslator/requirements.txt (line 24))\n",
      "  Downloading narwhals-1.27.1-py3-none-any.whl.metadata (10 kB)\n",
      "Requirement already satisfied: networkx==3.4.2 in /usr/local/lib/python3.10/dist-packages (from -r /kaggle/input/enrotransformertranslator/EnRoTransformerTranslator/requirements.txt (line 25)) (3.4.2)\n",
      "Collecting numpy==2.2.3 (from -r /kaggle/input/enrotransformertranslator/EnRoTransformerTranslator/requirements.txt (line 26))\n",
      "  Downloading numpy-2.2.3-cp310-cp310-manylinux_2_17_x86_64.manylinux2014_x86_64.whl.metadata (62 kB)\n",
      "\u001b[2K     \u001b[90m━━━━━━━━━━━━━━━━━━━━━━━━━━━━━━━━━━━━━━━━\u001b[0m \u001b[32m62.0/62.0 kB\u001b[0m \u001b[31m2.2 MB/s\u001b[0m eta \u001b[36m0:00:00\u001b[0m\n",
      "\u001b[?25hRequirement already satisfied: packaging==24.2 in /usr/local/lib/python3.10/dist-packages (from -r /kaggle/input/enrotransformertranslator/EnRoTransformerTranslator/requirements.txt (line 27)) (24.2)\n",
      "Requirement already satisfied: pandas==2.2.3 in /usr/local/lib/python3.10/dist-packages (from -r /kaggle/input/enrotransformertranslator/EnRoTransformerTranslator/requirements.txt (line 28)) (2.2.3)\n",
      "Collecting propcache==0.3.0 (from -r /kaggle/input/enrotransformertranslator/EnRoTransformerTranslator/requirements.txt (line 29))\n",
      "  Downloading propcache-0.3.0-cp310-cp310-manylinux_2_17_x86_64.manylinux2014_x86_64.whl.metadata (10 kB)\n",
      "Requirement already satisfied: pyarrow==19.0.1 in /usr/local/lib/python3.10/dist-packages (from -r /kaggle/input/enrotransformertranslator/EnRoTransformerTranslator/requirements.txt (line 30)) (19.0.1)\n",
      "Requirement already satisfied: python-dateutil==2.9.0.post0 in /usr/local/lib/python3.10/dist-packages (from -r /kaggle/input/enrotransformertranslator/EnRoTransformerTranslator/requirements.txt (line 31)) (2.9.0.post0)\n",
      "Requirement already satisfied: pytz==2025.1 in /usr/local/lib/python3.10/dist-packages (from -r /kaggle/input/enrotransformertranslator/EnRoTransformerTranslator/requirements.txt (line 32)) (2025.1)\n",
      "Requirement already satisfied: PyYAML==6.0.2 in /usr/local/lib/python3.10/dist-packages (from -r /kaggle/input/enrotransformertranslator/EnRoTransformerTranslator/requirements.txt (line 33)) (6.0.2)\n",
      "Collecting referencing==0.36.2 (from -r /kaggle/input/enrotransformertranslator/EnRoTransformerTranslator/requirements.txt (line 34))\n",
      "  Downloading referencing-0.36.2-py3-none-any.whl.metadata (2.8 kB)\n",
      "Requirement already satisfied: requests==2.32.3 in /usr/local/lib/python3.10/dist-packages (from -r /kaggle/input/enrotransformertranslator/EnRoTransformerTranslator/requirements.txt (line 35)) (2.32.3)\n",
      "Collecting rpds-py==0.23.1 (from -r /kaggle/input/enrotransformertranslator/EnRoTransformerTranslator/requirements.txt (line 36))\n",
      "  Downloading rpds_py-0.23.1-cp310-cp310-manylinux_2_17_x86_64.manylinux2014_x86_64.whl.metadata (4.1 kB)\n",
      "Requirement already satisfied: six==1.17.0 in /usr/local/lib/python3.10/dist-packages (from -r /kaggle/input/enrotransformertranslator/EnRoTransformerTranslator/requirements.txt (line 37)) (1.17.0)\n",
      "Requirement already satisfied: sympy==1.13.1 in /usr/local/lib/python3.10/dist-packages (from -r /kaggle/input/enrotransformertranslator/EnRoTransformerTranslator/requirements.txt (line 38)) (1.13.1)\n",
      "Requirement already satisfied: tokenizers==0.21.0 in /usr/local/lib/python3.10/dist-packages (from -r /kaggle/input/enrotransformertranslator/EnRoTransformerTranslator/requirements.txt (line 39)) (0.21.0)\n",
      "Collecting torch==2.6.0 (from -r /kaggle/input/enrotransformertranslator/EnRoTransformerTranslator/requirements.txt (line 40))\n",
      "  Downloading torch-2.6.0-cp310-cp310-manylinux1_x86_64.whl.metadata (28 kB)\n",
      "Requirement already satisfied: torchmetrics==1.6.1 in /usr/local/lib/python3.10/dist-packages (from -r /kaggle/input/enrotransformertranslator/EnRoTransformerTranslator/requirements.txt (line 41)) (1.6.1)\n",
      "Requirement already satisfied: tqdm==4.67.1 in /usr/local/lib/python3.10/dist-packages (from -r /kaggle/input/enrotransformertranslator/EnRoTransformerTranslator/requirements.txt (line 42)) (4.67.1)\n",
      "Requirement already satisfied: typing_extensions==4.12.2 in /usr/local/lib/python3.10/dist-packages (from -r /kaggle/input/enrotransformertranslator/EnRoTransformerTranslator/requirements.txt (line 43)) (4.12.2)\n",
      "Requirement already satisfied: tzdata==2025.1 in /usr/local/lib/python3.10/dist-packages (from -r /kaggle/input/enrotransformertranslator/EnRoTransformerTranslator/requirements.txt (line 44)) (2025.1)\n",
      "Requirement already satisfied: urllib3==2.3.0 in /usr/local/lib/python3.10/dist-packages (from -r /kaggle/input/enrotransformertranslator/EnRoTransformerTranslator/requirements.txt (line 45)) (2.3.0)\n",
      "Requirement already satisfied: xxhash==3.5.0 in /usr/local/lib/python3.10/dist-packages (from -r /kaggle/input/enrotransformertranslator/EnRoTransformerTranslator/requirements.txt (line 46)) (3.5.0)\n",
      "Requirement already satisfied: yarl==1.18.3 in /usr/local/lib/python3.10/dist-packages (from -r /kaggle/input/enrotransformertranslator/EnRoTransformerTranslator/requirements.txt (line 47)) (1.18.3)\n",
      "Requirement already satisfied: async-timeout<6.0,>=4.0 in /usr/local/lib/python3.10/dist-packages (from aiohttp==3.11.12->-r /kaggle/input/enrotransformertranslator/EnRoTransformerTranslator/requirements.txt (line 2)) (5.0.1)\n",
      "Requirement already satisfied: setuptools in /usr/local/lib/python3.10/dist-packages (from lightning-utilities==0.12.0->-r /kaggle/input/enrotransformertranslator/EnRoTransformerTranslator/requirements.txt (line 19)) (75.1.0)\n",
      "Collecting nvidia-cuda-nvrtc-cu12==12.4.127 (from torch==2.6.0->-r /kaggle/input/enrotransformertranslator/EnRoTransformerTranslator/requirements.txt (line 40))\n",
      "  Downloading nvidia_cuda_nvrtc_cu12-12.4.127-py3-none-manylinux2014_x86_64.whl.metadata (1.5 kB)\n",
      "Collecting nvidia-cuda-runtime-cu12==12.4.127 (from torch==2.6.0->-r /kaggle/input/enrotransformertranslator/EnRoTransformerTranslator/requirements.txt (line 40))\n",
      "  Downloading nvidia_cuda_runtime_cu12-12.4.127-py3-none-manylinux2014_x86_64.whl.metadata (1.5 kB)\n",
      "Collecting nvidia-cuda-cupti-cu12==12.4.127 (from torch==2.6.0->-r /kaggle/input/enrotransformertranslator/EnRoTransformerTranslator/requirements.txt (line 40))\n",
      "  Downloading nvidia_cuda_cupti_cu12-12.4.127-py3-none-manylinux2014_x86_64.whl.metadata (1.6 kB)\n",
      "Collecting nvidia-cudnn-cu12==9.1.0.70 (from torch==2.6.0->-r /kaggle/input/enrotransformertranslator/EnRoTransformerTranslator/requirements.txt (line 40))\n",
      "  Downloading nvidia_cudnn_cu12-9.1.0.70-py3-none-manylinux2014_x86_64.whl.metadata (1.6 kB)\n",
      "Collecting nvidia-cublas-cu12==12.4.5.8 (from torch==2.6.0->-r /kaggle/input/enrotransformertranslator/EnRoTransformerTranslator/requirements.txt (line 40))\n",
      "  Downloading nvidia_cublas_cu12-12.4.5.8-py3-none-manylinux2014_x86_64.whl.metadata (1.5 kB)\n",
      "Collecting nvidia-cufft-cu12==11.2.1.3 (from torch==2.6.0->-r /kaggle/input/enrotransformertranslator/EnRoTransformerTranslator/requirements.txt (line 40))\n",
      "  Downloading nvidia_cufft_cu12-11.2.1.3-py3-none-manylinux2014_x86_64.whl.metadata (1.5 kB)\n",
      "Collecting nvidia-curand-cu12==10.3.5.147 (from torch==2.6.0->-r /kaggle/input/enrotransformertranslator/EnRoTransformerTranslator/requirements.txt (line 40))\n",
      "  Downloading nvidia_curand_cu12-10.3.5.147-py3-none-manylinux2014_x86_64.whl.metadata (1.5 kB)\n",
      "Collecting nvidia-cusolver-cu12==11.6.1.9 (from torch==2.6.0->-r /kaggle/input/enrotransformertranslator/EnRoTransformerTranslator/requirements.txt (line 40))\n",
      "  Downloading nvidia_cusolver_cu12-11.6.1.9-py3-none-manylinux2014_x86_64.whl.metadata (1.6 kB)\n",
      "Collecting nvidia-cusparse-cu12==12.3.1.170 (from torch==2.6.0->-r /kaggle/input/enrotransformertranslator/EnRoTransformerTranslator/requirements.txt (line 40))\n",
      "  Downloading nvidia_cusparse_cu12-12.3.1.170-py3-none-manylinux2014_x86_64.whl.metadata (1.6 kB)\n",
      "Collecting nvidia-cusparselt-cu12==0.6.2 (from torch==2.6.0->-r /kaggle/input/enrotransformertranslator/EnRoTransformerTranslator/requirements.txt (line 40))\n",
      "  Downloading nvidia_cusparselt_cu12-0.6.2-py3-none-manylinux2014_x86_64.whl.metadata (6.8 kB)\n",
      "Collecting nvidia-nccl-cu12==2.21.5 (from torch==2.6.0->-r /kaggle/input/enrotransformertranslator/EnRoTransformerTranslator/requirements.txt (line 40))\n",
      "  Downloading nvidia_nccl_cu12-2.21.5-py3-none-manylinux2014_x86_64.whl.metadata (1.8 kB)\n",
      "Collecting nvidia-nvtx-cu12==12.4.127 (from torch==2.6.0->-r /kaggle/input/enrotransformertranslator/EnRoTransformerTranslator/requirements.txt (line 40))\n",
      "  Downloading nvidia_nvtx_cu12-12.4.127-py3-none-manylinux2014_x86_64.whl.metadata (1.7 kB)\n",
      "Collecting nvidia-nvjitlink-cu12==12.4.127 (from torch==2.6.0->-r /kaggle/input/enrotransformertranslator/EnRoTransformerTranslator/requirements.txt (line 40))\n",
      "  Downloading nvidia_nvjitlink_cu12-12.4.127-py3-none-manylinux2014_x86_64.whl.metadata (1.5 kB)\n",
      "Collecting triton==3.2.0 (from torch==2.6.0->-r /kaggle/input/enrotransformertranslator/EnRoTransformerTranslator/requirements.txt (line 40))\n",
      "  Downloading triton-3.2.0-cp310-cp310-manylinux_2_17_x86_64.manylinux2014_x86_64.whl.metadata (1.4 kB)\n",
      "Downloading datasets-3.3.2-py3-none-any.whl (485 kB)\n",
      "\u001b[2K   \u001b[90m━━━━━━━━━━━━━━━━━━━━━━━━━━━━━━━━━━━━━━━━\u001b[0m \u001b[32m485.4/485.4 kB\u001b[0m \u001b[31m12.5 MB/s\u001b[0m eta \u001b[36m0:00:00\u001b[0m00:01\u001b[0m\n",
      "\u001b[?25hDownloading huggingface_hub-0.29.1-py3-none-any.whl (468 kB)\n",
      "\u001b[2K   \u001b[90m━━━━━━━━━━━━━━━━━━━━━━━━━━━━━━━━━━━━━━━━\u001b[0m \u001b[32m468.0/468.0 kB\u001b[0m \u001b[31m33.1 MB/s\u001b[0m eta \u001b[36m0:00:00\u001b[0m\n",
      "\u001b[?25hDownloading jinja2-3.1.5-py3-none-any.whl (134 kB)\n",
      "\u001b[2K   \u001b[90m━━━━━━━━━━━━━━━━━━━━━━━━━━━━━━━━━━━━━━━━\u001b[0m \u001b[32m134.6/134.6 kB\u001b[0m \u001b[31m9.4 MB/s\u001b[0m eta \u001b[36m0:00:00\u001b[0m\n",
      "\u001b[?25hDownloading narwhals-1.27.1-py3-none-any.whl (308 kB)\n",
      "\u001b[2K   \u001b[90m━━━━━━━━━━━━━━━━━━━━━━━━━━━━━━━━━━━━━━━━\u001b[0m \u001b[32m308.8/308.8 kB\u001b[0m \u001b[31m22.4 MB/s\u001b[0m eta \u001b[36m0:00:00\u001b[0m\n",
      "\u001b[?25hDownloading numpy-2.2.3-cp310-cp310-manylinux_2_17_x86_64.manylinux2014_x86_64.whl (16.4 MB)\n",
      "\u001b[2K   \u001b[90m━━━━━━━━━━━━━━━━━━━━━━━━━━━━━━━━━━━━━━━━\u001b[0m \u001b[32m16.4/16.4 MB\u001b[0m \u001b[31m75.7 MB/s\u001b[0m eta \u001b[36m0:00:00\u001b[0m:00:01\u001b[0m00:01\u001b[0m\n",
      "\u001b[?25hDownloading propcache-0.3.0-cp310-cp310-manylinux_2_17_x86_64.manylinux2014_x86_64.whl (205 kB)\n",
      "\u001b[2K   \u001b[90m━━━━━━━━━━━━━━━━━━━━━━━━━━━━━━━━━━━━━━━━\u001b[0m \u001b[32m205.4/205.4 kB\u001b[0m \u001b[31m13.7 MB/s\u001b[0m eta \u001b[36m0:00:00\u001b[0m\n",
      "\u001b[?25hDownloading referencing-0.36.2-py3-none-any.whl (26 kB)\n",
      "Downloading rpds_py-0.23.1-cp310-cp310-manylinux_2_17_x86_64.manylinux2014_x86_64.whl (386 kB)\n",
      "\u001b[2K   \u001b[90m━━━━━━━━━━━━━━━━━━━━━━━━━━━━━━━━━━━━━━━━\u001b[0m \u001b[32m386.1/386.1 kB\u001b[0m \u001b[31m23.3 MB/s\u001b[0m eta \u001b[36m0:00:00\u001b[0m\n",
      "\u001b[?25hDownloading torch-2.6.0-cp310-cp310-manylinux1_x86_64.whl (766.7 MB)\n",
      "\u001b[2K   \u001b[90m━━━━━━━━━━━━━━━━━━━━━━━━━━━━━━━━━━━━━━━━\u001b[0m \u001b[32m766.7/766.7 MB\u001b[0m \u001b[31m2.1 MB/s\u001b[0m eta \u001b[36m0:00:00\u001b[0m0:00:01\u001b[0m00:01\u001b[0m\n",
      "\u001b[?25hDownloading nvidia_cublas_cu12-12.4.5.8-py3-none-manylinux2014_x86_64.whl (363.4 MB)\n",
      "\u001b[2K   \u001b[90m━━━━━━━━━━━━━━━━━━━━━━━━━━━━━━━━━━━━━━━━\u001b[0m \u001b[32m363.4/363.4 MB\u001b[0m \u001b[31m4.3 MB/s\u001b[0m eta \u001b[36m0:00:00\u001b[0m0:00:01\u001b[0m00:01\u001b[0m\n",
      "\u001b[?25hDownloading nvidia_cuda_cupti_cu12-12.4.127-py3-none-manylinux2014_x86_64.whl (13.8 MB)\n",
      "\u001b[2K   \u001b[90m━━━━━━━━━━━━━━━━━━━━━━━━━━━━━━━━━━━━━━━━\u001b[0m \u001b[32m13.8/13.8 MB\u001b[0m \u001b[31m88.1 MB/s\u001b[0m eta \u001b[36m0:00:00\u001b[0m:00:01\u001b[0m0:01\u001b[0m\n",
      "\u001b[?25hDownloading nvidia_cuda_nvrtc_cu12-12.4.127-py3-none-manylinux2014_x86_64.whl (24.6 MB)\n",
      "\u001b[2K   \u001b[90m━━━━━━━━━━━━━━━━━━━━━━━━━━━━━━━━━━━━━━━━\u001b[0m \u001b[32m24.6/24.6 MB\u001b[0m \u001b[31m66.5 MB/s\u001b[0m eta \u001b[36m0:00:00\u001b[0m:00:01\u001b[0m00:01\u001b[0m\n",
      "\u001b[?25hDownloading nvidia_cuda_runtime_cu12-12.4.127-py3-none-manylinux2014_x86_64.whl (883 kB)\n",
      "\u001b[2K   \u001b[90m━━━━━━━━━━━━━━━━━━━━━━━━━━━━━━━━━━━━━━━━\u001b[0m \u001b[32m883.7/883.7 kB\u001b[0m \u001b[31m50.4 MB/s\u001b[0m eta \u001b[36m0:00:00\u001b[0m\n",
      "\u001b[?25hDownloading nvidia_cudnn_cu12-9.1.0.70-py3-none-manylinux2014_x86_64.whl (664.8 MB)\n",
      "\u001b[2K   \u001b[90m━━━━━━━━━━━━━━━━━━━━━━━━━━━━━━━━━━━━━━━━\u001b[0m \u001b[32m664.8/664.8 MB\u001b[0m \u001b[31m1.3 MB/s\u001b[0m eta \u001b[36m0:00:00\u001b[0m0:00:01\u001b[0m00:01\u001b[0m\n",
      "\u001b[?25hDownloading nvidia_cufft_cu12-11.2.1.3-py3-none-manylinux2014_x86_64.whl (211.5 MB)\n",
      "\u001b[2K   \u001b[90m━━━━━━━━━━━━━━━━━━━━━━━━━━━━━━━━━━━━━━━━\u001b[0m \u001b[32m211.5/211.5 MB\u001b[0m \u001b[31m5.7 MB/s\u001b[0m eta \u001b[36m0:00:00\u001b[0m0:00:01\u001b[0m00:01\u001b[0m\n",
      "\u001b[?25hDownloading nvidia_curand_cu12-10.3.5.147-py3-none-manylinux2014_x86_64.whl (56.3 MB)\n",
      "\u001b[2K   \u001b[90m━━━━━━━━━━━━━━━━━━━━━━━━━━━━━━━━━━━━━━━━\u001b[0m \u001b[32m56.3/56.3 MB\u001b[0m \u001b[31m3.1 MB/s\u001b[0m eta \u001b[36m0:00:00\u001b[0m0:00:01\u001b[0m00:01\u001b[0m\n",
      "\u001b[?25hDownloading nvidia_cusolver_cu12-11.6.1.9-py3-none-manylinux2014_x86_64.whl (127.9 MB)\n",
      "\u001b[2K   \u001b[90m━━━━━━━━━━━━━━━━━━━━━━━━━━━━━━━━━━━━━━━━\u001b[0m \u001b[32m127.9/127.9 MB\u001b[0m \u001b[31m8.8 MB/s\u001b[0m eta \u001b[36m0:00:00\u001b[0m0:00:01\u001b[0m00:01\u001b[0m\n",
      "\u001b[?25hDownloading nvidia_cusparse_cu12-12.3.1.170-py3-none-manylinux2014_x86_64.whl (207.5 MB)\n",
      "\u001b[2K   \u001b[90m━━━━━━━━━━━━━━━━━━━━━━━━━━━━━━━━━━━━━━━━\u001b[0m \u001b[32m207.5/207.5 MB\u001b[0m \u001b[31m8.3 MB/s\u001b[0m eta \u001b[36m0:00:00\u001b[0m0:00:01\u001b[0m00:01\u001b[0m\n",
      "\u001b[?25hDownloading nvidia_cusparselt_cu12-0.6.2-py3-none-manylinux2014_x86_64.whl (150.1 MB)\n",
      "\u001b[2K   \u001b[90m━━━━━━━━━━━━━━━━━━━━━━━━━━━━━━━━━━━━━━━━\u001b[0m \u001b[32m150.1/150.1 MB\u001b[0m \u001b[31m11.3 MB/s\u001b[0m eta \u001b[36m0:00:00\u001b[0m:00:01\u001b[0m00:01\u001b[0m\n",
      "\u001b[?25hDownloading nvidia_nccl_cu12-2.21.5-py3-none-manylinux2014_x86_64.whl (188.7 MB)\n",
      "\u001b[2K   \u001b[90m━━━━━━━━━━━━━━━━━━━━━━━━━━━━━━━━━━━━━━━━\u001b[0m \u001b[32m188.7/188.7 MB\u001b[0m \u001b[31m9.2 MB/s\u001b[0m eta \u001b[36m0:00:00\u001b[0m0:00:01\u001b[0m00:01\u001b[0m\n",
      "\u001b[?25hDownloading nvidia_nvjitlink_cu12-12.4.127-py3-none-manylinux2014_x86_64.whl (21.1 MB)\n",
      "\u001b[2K   \u001b[90m━━━━━━━━━━━━━━━━━━━━━━━━━━━━━━━━━━━━━━━━\u001b[0m \u001b[32m21.1/21.1 MB\u001b[0m \u001b[31m71.6 MB/s\u001b[0m eta \u001b[36m0:00:00\u001b[0m:00:01\u001b[0m00:01\u001b[0m\n",
      "\u001b[?25hDownloading nvidia_nvtx_cu12-12.4.127-py3-none-manylinux2014_x86_64.whl (99 kB)\n",
      "\u001b[2K   \u001b[90m━━━━━━━━━━━━━━━━━━━━━━━━━━━━━━━━━━━━━━━━\u001b[0m \u001b[32m99.1/99.1 kB\u001b[0m \u001b[31m7.7 MB/s\u001b[0m eta \u001b[36m0:00:00\u001b[0m\n",
      "\u001b[?25hDownloading triton-3.2.0-cp310-cp310-manylinux_2_17_x86_64.manylinux2014_x86_64.whl (253.1 MB)\n",
      "\u001b[2K   \u001b[90m━━━━━━━━━━━━━━━━━━━━━━━━━━━━━━━━━━━━━━━━\u001b[0m \u001b[32m253.1/253.1 MB\u001b[0m \u001b[31m6.8 MB/s\u001b[0m eta \u001b[36m0:00:00\u001b[0m0:00:01\u001b[0m00:01\u001b[0m\n",
      "\u001b[?25hInstalling collected packages: triton, nvidia-cusparselt-cu12, rpds-py, propcache, nvidia-nvtx-cu12, nvidia-nvjitlink-cu12, nvidia-nccl-cu12, nvidia-curand-cu12, nvidia-cufft-cu12, nvidia-cuda-runtime-cu12, nvidia-cuda-nvrtc-cu12, nvidia-cuda-cupti-cu12, nvidia-cublas-cu12, numpy, narwhals, Jinja2, referencing, nvidia-cusparse-cu12, nvidia-cudnn-cu12, huggingface-hub, nvidia-cusolver-cu12, torch, datasets\n",
      "  Attempting uninstall: rpds-py\n",
      "    Found existing installation: rpds-py 0.22.3\n",
      "    Uninstalling rpds-py-0.22.3:\n",
      "      Successfully uninstalled rpds-py-0.22.3\n",
      "  Attempting uninstall: propcache\n",
      "    Found existing installation: propcache 0.2.1\n",
      "    Uninstalling propcache-0.2.1:\n",
      "      Successfully uninstalled propcache-0.2.1\n",
      "  Attempting uninstall: nvidia-nvjitlink-cu12\n",
      "    Found existing installation: nvidia-nvjitlink-cu12 12.6.85\n",
      "    Uninstalling nvidia-nvjitlink-cu12-12.6.85:\n",
      "      Successfully uninstalled nvidia-nvjitlink-cu12-12.6.85\n",
      "  Attempting uninstall: nvidia-nccl-cu12\n",
      "    Found existing installation: nvidia-nccl-cu12 2.23.4\n",
      "    Uninstalling nvidia-nccl-cu12-2.23.4:\n",
      "      Successfully uninstalled nvidia-nccl-cu12-2.23.4\n",
      "  Attempting uninstall: nvidia-curand-cu12\n",
      "    Found existing installation: nvidia-curand-cu12 10.3.7.77\n",
      "    Uninstalling nvidia-curand-cu12-10.3.7.77:\n",
      "      Successfully uninstalled nvidia-curand-cu12-10.3.7.77\n",
      "  Attempting uninstall: nvidia-cufft-cu12\n",
      "    Found existing installation: nvidia-cufft-cu12 11.3.0.4\n",
      "    Uninstalling nvidia-cufft-cu12-11.3.0.4:\n",
      "      Successfully uninstalled nvidia-cufft-cu12-11.3.0.4\n",
      "  Attempting uninstall: nvidia-cuda-runtime-cu12\n",
      "    Found existing installation: nvidia-cuda-runtime-cu12 12.6.77\n",
      "    Uninstalling nvidia-cuda-runtime-cu12-12.6.77:\n",
      "      Successfully uninstalled nvidia-cuda-runtime-cu12-12.6.77\n",
      "  Attempting uninstall: nvidia-cuda-cupti-cu12\n",
      "    Found existing installation: nvidia-cuda-cupti-cu12 12.6.80\n",
      "    Uninstalling nvidia-cuda-cupti-cu12-12.6.80:\n",
      "      Successfully uninstalled nvidia-cuda-cupti-cu12-12.6.80\n",
      "  Attempting uninstall: nvidia-cublas-cu12\n",
      "    Found existing installation: nvidia-cublas-cu12 12.6.4.1\n",
      "    Uninstalling nvidia-cublas-cu12-12.6.4.1:\n",
      "      Successfully uninstalled nvidia-cublas-cu12-12.6.4.1\n",
      "  Attempting uninstall: numpy\n",
      "    Found existing installation: numpy 1.26.4\n",
      "    Uninstalling numpy-1.26.4:\n",
      "      Successfully uninstalled numpy-1.26.4\n",
      "  Attempting uninstall: narwhals\n",
      "    Found existing installation: narwhals 1.18.4\n",
      "    Uninstalling narwhals-1.18.4:\n",
      "      Successfully uninstalled narwhals-1.18.4\n",
      "  Attempting uninstall: Jinja2\n",
      "    Found existing installation: Jinja2 3.1.4\n",
      "    Uninstalling Jinja2-3.1.4:\n",
      "      Successfully uninstalled Jinja2-3.1.4\n",
      "  Attempting uninstall: referencing\n",
      "    Found existing installation: referencing 0.35.1\n",
      "    Uninstalling referencing-0.35.1:\n",
      "      Successfully uninstalled referencing-0.35.1\n",
      "  Attempting uninstall: nvidia-cusparse-cu12\n",
      "    Found existing installation: nvidia-cusparse-cu12 12.5.4.2\n",
      "    Uninstalling nvidia-cusparse-cu12-12.5.4.2:\n",
      "      Successfully uninstalled nvidia-cusparse-cu12-12.5.4.2\n",
      "  Attempting uninstall: nvidia-cudnn-cu12\n",
      "    Found existing installation: nvidia-cudnn-cu12 9.6.0.74\n",
      "    Uninstalling nvidia-cudnn-cu12-9.6.0.74:\n",
      "      Successfully uninstalled nvidia-cudnn-cu12-9.6.0.74\n",
      "  Attempting uninstall: huggingface-hub\n",
      "    Found existing installation: huggingface-hub 0.29.0\n",
      "    Uninstalling huggingface-hub-0.29.0:\n",
      "      Successfully uninstalled huggingface-hub-0.29.0\n",
      "  Attempting uninstall: nvidia-cusolver-cu12\n",
      "    Found existing installation: nvidia-cusolver-cu12 11.7.1.2\n",
      "    Uninstalling nvidia-cusolver-cu12-11.7.1.2:\n",
      "      Successfully uninstalled nvidia-cusolver-cu12-11.7.1.2\n",
      "  Attempting uninstall: torch\n",
      "    Found existing installation: torch 2.5.1+cu121\n",
      "    Uninstalling torch-2.5.1+cu121:\n",
      "      Successfully uninstalled torch-2.5.1+cu121\n",
      "  Attempting uninstall: datasets\n",
      "    Found existing installation: datasets 3.3.1\n",
      "    Uninstalling datasets-3.3.1:\n",
      "      Successfully uninstalled datasets-3.3.1\n",
      "\u001b[31mERROR: pip's dependency resolver does not currently take into account all the packages that are installed. This behaviour is the source of the following dependency conflicts.\n",
      "catboost 1.2.7 requires numpy<2.0,>=1.16.0, but you have numpy 2.2.3 which is incompatible.\n",
      "cupy-cuda12x 12.2.0 requires numpy<1.27,>=1.20, but you have numpy 2.2.3 which is incompatible.\n",
      "fastai 2.7.18 requires torch<2.6,>=1.10, but you have torch 2.6.0 which is incompatible.\n",
      "gcsfs 2024.10.0 requires fsspec==2024.10.0, but you have fsspec 2024.12.0 which is incompatible.\n",
      "gensim 4.3.3 requires numpy<2.0,>=1.18.5, but you have numpy 2.2.3 which is incompatible.\n",
      "langchain 0.3.12 requires async-timeout<5.0.0,>=4.0.0; python_version < \"3.11\", but you have async-timeout 5.0.1 which is incompatible.\n",
      "langchain 0.3.12 requires numpy<2,>=1.22.4; python_version < \"3.12\", but you have numpy 2.2.3 which is incompatible.\n",
      "matplotlib 3.7.5 requires numpy<2,>=1.20, but you have numpy 2.2.3 which is incompatible.\n",
      "mkl-fft 1.3.8 requires numpy<1.27.0,>=1.26.4, but you have numpy 2.2.3 which is incompatible.\n",
      "mkl-random 1.2.4 requires numpy<1.27.0,>=1.26.4, but you have numpy 2.2.3 which is incompatible.\n",
      "mkl-umath 0.1.1 requires numpy<1.27.0,>=1.26.4, but you have numpy 2.2.3 which is incompatible.\n",
      "mlxtend 0.23.3 requires scikit-learn>=1.3.1, but you have scikit-learn 1.2.2 which is incompatible.\n",
      "numba 0.60.0 requires numpy<2.1,>=1.22, but you have numpy 2.2.3 which is incompatible.\n",
      "pandas-gbq 0.25.0 requires google-api-core<3.0.0dev,>=2.10.2, but you have google-api-core 1.34.1 which is incompatible.\n",
      "plotnine 0.14.4 requires matplotlib>=3.8.0, but you have matplotlib 3.7.5 which is incompatible.\n",
      "pylibcugraph-cu12 24.10.0 requires pylibraft-cu12==24.10.*, but you have pylibraft-cu12 25.2.0 which is incompatible.\n",
      "pylibcugraph-cu12 24.10.0 requires rmm-cu12==24.10.*, but you have rmm-cu12 25.2.0 which is incompatible.\n",
      "pytensor 2.26.4 requires numpy<2,>=1.17.0, but you have numpy 2.2.3 which is incompatible.\n",
      "tensorflow 2.17.1 requires numpy<2.0.0,>=1.23.5; python_version <= \"3.11\", but you have numpy 2.2.3 which is incompatible.\n",
      "tensorflow-decision-forests 1.10.0 requires tensorflow==2.17.0, but you have tensorflow 2.17.1 which is incompatible.\n",
      "thinc 8.2.5 requires numpy<2.0.0,>=1.19.0; python_version >= \"3.9\", but you have numpy 2.2.3 which is incompatible.\n",
      "torchaudio 2.5.1+cu121 requires torch==2.5.1, but you have torch 2.6.0 which is incompatible.\n",
      "torchvision 0.20.1+cu121 requires torch==2.5.1, but you have torch 2.6.0 which is incompatible.\n",
      "ydata-profiling 4.12.2 requires numpy<2.2,>=1.16.0, but you have numpy 2.2.3 which is incompatible.\u001b[0m\u001b[31m\n",
      "\u001b[0mSuccessfully installed Jinja2-3.1.5 datasets-3.3.2 huggingface-hub-0.29.1 narwhals-1.27.1 numpy-2.2.3 nvidia-cublas-cu12-12.4.5.8 nvidia-cuda-cupti-cu12-12.4.127 nvidia-cuda-nvrtc-cu12-12.4.127 nvidia-cuda-runtime-cu12-12.4.127 nvidia-cudnn-cu12-9.1.0.70 nvidia-cufft-cu12-11.2.1.3 nvidia-curand-cu12-10.3.5.147 nvidia-cusolver-cu12-11.6.1.9 nvidia-cusparse-cu12-12.3.1.170 nvidia-cusparselt-cu12-0.6.2 nvidia-nccl-cu12-2.21.5 nvidia-nvjitlink-cu12-12.4.127 nvidia-nvtx-cu12-12.4.127 propcache-0.3.0 referencing-0.36.2 rpds-py-0.23.1 torch-2.6.0 triton-3.2.0\n"
     ]
    }
   ],
   "source": [
    "!pip install -r /kaggle/input/enrotransformertranslator/EnRoTransformerTranslator/requirements.txt"
   ]
  },
  {
   "cell_type": "code",
   "execution_count": 15,
   "metadata": {
    "execution": {
     "iopub.execute_input": "2025-03-01T09:18:50.399860Z",
     "iopub.status.busy": "2025-03-01T09:18:50.399530Z",
     "iopub.status.idle": "2025-03-01T09:19:03.498621Z",
     "shell.execute_reply": "2025-03-01T09:19:03.497738Z",
     "shell.execute_reply.started": "2025-03-01T09:18:50.399823Z"
    },
    "trusted": true
   },
   "outputs": [],
   "source": [
    "from config import get_config\n",
    "from train import train_model"
   ]
  },
  {
   "cell_type": "code",
   "execution_count": null,
   "metadata": {
    "execution": {
     "iopub.execute_input": "2025-03-01T09:19:11.374841Z",
     "iopub.status.busy": "2025-03-01T09:19:11.374209Z"
    },
    "trusted": true
   },
   "outputs": [
    {
     "name": "stdout",
     "output_type": "stream",
     "text": [
      "Using device cuda\n"
     ]
    },
    {
     "data": {
      "application/vnd.jupyter.widget-view+json": {
       "model_id": "55e9cf562ff047eda7b7687885dcaa94",
       "version_major": 2,
       "version_minor": 0
      },
      "text/plain": [
       "README.md:   0%|          | 0.00/1.16k [00:00<?, ?B/s]"
      ]
     },
     "metadata": {},
     "output_type": "display_data"
    },
    {
     "data": {
      "application/vnd.jupyter.widget-view+json": {
       "model_id": "83f760a7accc4acca46f890d8ad3d522",
       "version_major": 2,
       "version_minor": 0
      },
      "text/plain": [
       "opus_europarl_en_ro.json:   0%|          | 0.00/254M [00:00<?, ?B/s]"
      ]
     },
     "metadata": {},
     "output_type": "display_data"
    },
    {
     "data": {
      "application/vnd.jupyter.widget-view+json": {
       "model_id": "116993b608b144459a1f787b91a433bb",
       "version_major": 2,
       "version_minor": 0
      },
      "text/plain": [
       "Generating train split:   0%|          | 0/1404356 [00:00<?, ? examples/s]"
      ]
     },
     "metadata": {},
     "output_type": "display_data"
    },
    {
     "name": "stdout",
     "output_type": "stream",
     "text": [
      "Max lenght of source sentence: 1401\n",
      "Max lenght of target sentence: 1301\n"
     ]
    },
    {
     "name": "stderr",
     "output_type": "stream",
     "text": [
      "Processing Epoch 00: 100%|██████████| 39498/39498 [32:29<00:00, 20.26it/s, loss=3.641]\n",
      "/usr/local/lib/python3.10/dist-packages/torchmetrics/utilities/prints.py:62: FutureWarning: Importing `CharErrorRate` from `torchmetrics` was deprecated and will be removed in 2.0. Import `CharErrorRate` from `torchmetrics.text` instead.\n",
      "  _future_warning(\n",
      "/usr/local/lib/python3.10/dist-packages/torchmetrics/utilities/prints.py:62: FutureWarning: Importing `WordErrorRate` from `torchmetrics` was deprecated and will be removed in 2.0. Import `WordErrorRate` from `torchmetrics.text` instead.\n",
      "  _future_warning(\n",
      "/usr/local/lib/python3.10/dist-packages/torchmetrics/utilities/prints.py:62: FutureWarning: Importing `BLEUScore` from `torchmetrics` was deprecated and will be removed in 2.0. Import `BLEUScore` from `torchmetrics.text` instead.\n",
      "  _future_warning(\n"
     ]
    },
    {
     "name": "stdout",
     "output_type": "stream",
     "text": [
      "--------------------------------------------------------------------------------\n",
      "    SOURCE: They are being found on supermarket shelves.\n",
      "    TARGET: Ele se află pe rafturile supermarketurilor.\n",
      " PREDICTED: Au găsit pe .\n",
      "--------------------------------------------------------------------------------\n",
      "    SOURCE: He said a lion like me doesn't belong in any kind of cage.\n",
      "    TARGET: Spunea că un leu ca mine n-are ce căuta în cuşcă.\n",
      " PREDICTED: A spus că nu mă ca să nu - mi .\n",
      "--------------------------------------------------------------------------------\n"
     ]
    },
    {
     "name": "stderr",
     "output_type": "stream",
     "text": [
      "Processing Epoch 01: 100%|██████████| 39498/39498 [32:25<00:00, 20.30it/s, loss=3.440]\n"
     ]
    },
    {
     "name": "stdout",
     "output_type": "stream",
     "text": [
      "--------------------------------------------------------------------------------\n",
      "    SOURCE: European citizens cannot and would not understand why such breaches have not been punished, when measures were taken at the time of the G20 Summit.\n",
      "    TARGET: Cetăţenii europeni nu pot şi nu vor să înţeleagă de ce aceste abateri nu au fost pedepsite, la momentul luării acestor măsuri în cadrul summitului G20.\n",
      " PREDICTED: Cetăţenii europeni nu pot să înțeleagă de ce astfel de încălcări ale acestor încălcări nu au fost , atunci când măsurile de la summitul G20 .\n",
      "--------------------------------------------------------------------------------\n",
      "    SOURCE: For trying to take our Sun Stone, you must be severely punished!\n",
      "    TARGET: Fiindcă aţi încercat să ne furaţi Piatra Soarelui, veţi fi aspru pedepsiţi !\n",
      " PREDICTED: Pentru a încerca să ne şi trebuie să fii grav !\n",
      "--------------------------------------------------------------------------------\n"
     ]
    },
    {
     "name": "stderr",
     "output_type": "stream",
     "text": [
      "Processing Epoch 02: 100%|██████████| 39498/39498 [33:26<00:00, 19.69it/s, loss=2.817]\n"
     ]
    },
    {
     "name": "stdout",
     "output_type": "stream",
     "text": [
      "--------------------------------------------------------------------------------\n",
      "    SOURCE: And what exactly will this invention of yours accomplish?\n",
      "    TARGET: Şi ce se va reuşi cu această invenţie a ta?\n",
      " PREDICTED: Şi ce exact va fi această ?\n",
      "--------------------------------------------------------------------------------\n",
      "    SOURCE: We have no problems With cops.\n",
      "    TARGET: Nu avem probleme cu poliţia.\n",
      " PREDICTED: Nu avem probleme cu poliţişti .\n",
      "--------------------------------------------------------------------------------\n"
     ]
    },
    {
     "name": "stderr",
     "output_type": "stream",
     "text": [
      "Processing Epoch 04: 100%|██████████| 39498/39498 [33:27<00:00, 19.68it/s, loss=3.513]\n"
     ]
    },
    {
     "name": "stdout",
     "output_type": "stream",
     "text": [
      "--------------------------------------------------------------------------------\n",
      "    SOURCE: It was nice meeting you again.\n",
      "    TARGET: M-am bucurat să vă revăd.\n",
      " PREDICTED: A fost o întâlnire frumoasă .\n",
      "--------------------------------------------------------------------------------\n",
      "    SOURCE: Never thought it could happen to me\n",
      "    TARGET: Niciodata nu am crezut ca mi se poate intampla mie\n",
      " PREDICTED: Nu m - am gândit că s - ar putea întâmpla .\n",
      "--------------------------------------------------------------------------------\n"
     ]
    },
    {
     "name": "stderr",
     "output_type": "stream",
     "text": [
      "Processing Epoch 09:  27%|██▋       | 10861/39498 [08:54<24:15, 19.67it/s, loss=2.994]IOPub message rate exceeded.\n",
      "The notebook server will temporarily stop sending output\n",
      "to the client in order to avoid crashing it.\n",
      "To change this limit, set the config variable\n",
      "`--NotebookApp.iopub_msg_rate_limit`.\n",
      "\n",
      "Current values:\n",
      "NotebookApp.iopub_msg_rate_limit=10000.0 (msgs/sec)\n",
      "NotebookApp.rate_limit_window=1.0 (secs)\n",
      "\n",
      "Processing Epoch 09:  59%|█████▊    | 23133/39498 [18:58<13:22, 20.39it/s, loss=3.270]"
     ]
    }
   ],
   "source": [
    "config = get_config()\n",
    "train_model(config)"
   ]
  }
 ],
 "metadata": {
  "kaggle": {
   "accelerator": "nvidiaTeslaT4",
   "dataSources": [
    {
     "datasetId": 6765355,
     "sourceId": 10887365,
     "sourceType": "datasetVersion"
    }
   ],
   "dockerImageVersionId": 30919,
   "isGpuEnabled": true,
   "isInternetEnabled": true,
   "language": "python",
   "sourceType": "notebook"
  },
  "kernelspec": {
   "display_name": "Python 3",
   "language": "python",
   "name": "python3"
  },
  "language_info": {
   "codemirror_mode": {
    "name": "ipython",
    "version": 3
   },
   "file_extension": ".py",
   "mimetype": "text/x-python",
   "name": "python",
   "nbconvert_exporter": "python",
   "pygments_lexer": "ipython3",
   "version": "3.10.12"
  }
 },
 "nbformat": 4,
 "nbformat_minor": 4
}
